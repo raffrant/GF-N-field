{
 "cells": [
  {
   "cell_type": "code",
   "execution_count": 5,
   "metadata": {},
   "outputs": [
    {
     "name": "stdout",
     "output_type": "stream",
     "text": [
      "Hello World\n"
     ]
    }
   ],
   "source": [
    "print(\"Hello World\")"
   ]
  },
  {
   "cell_type": "code",
   "execution_count": 2,
   "metadata": {},
   "outputs": [],
   "source": [
    "import numpy as np\n",
    "import matplotlib.pyplot as plt"
   ]
  },
  {
   "cell_type": "code",
   "execution_count": 4,
   "metadata": {},
   "outputs": [
    {
     "name": "stdout",
     "output_type": "stream",
     "text": [
      "[[0 0 1 1 1 1 1 0 0 1]\n",
      " [1 1 0 1 0 1 1 1 1 1]\n",
      " [1 1 1 1 1 1 1 1 1 1]\n",
      " [0 0 1 1 1 0 1 1 0 1]\n",
      " [1 1 0 0 1 1 0 0 0 1]\n",
      " [0 1 1 1 1 1 1 1 1 1]\n",
      " [1 0 0 1 0 1 1 1 1 0]\n",
      " [0 1 1 1 1 1 1 1 1 1]\n",
      " [1 0 0 1 1 0 1 1 0 1]\n",
      " [1 0 1 1 1 1 1 0 1 1]]\n"
     ]
    }
   ],
   "source": [
    "aa=np.random.choice([0,1],size=(10,10),p=[0.3,0.7])\n",
    "print(aa)"
   ]
  },
  {
   "cell_type": "code",
   "execution_count": 32,
   "metadata": {},
   "outputs": [],
   "source": [
    "import sys \n",
    "import scipy\n",
    "sys.path.append(\"C:/Users/rfrantzesk/Desktop/physics/.venvtensors\")\n",
    "import rrefgf2"
   ]
  },
  {
   "cell_type": "code",
   "execution_count": 11,
   "metadata": {},
   "outputs": [
    {
     "name": "stdout",
     "output_type": "stream",
     "text": [
      "[[1 0 0 0 0 0 0 0 0 0]\n",
      " [0 1 0 0 0 0 0 1 0 0]\n",
      " [0 0 1 0 0 0 0 0 0 0]\n",
      " [0 0 0 1 0 0 1 0 0 0]\n",
      " [0 0 0 0 1 0 0 0 0 0]\n",
      " [0 0 0 0 0 1 0 1 0 0]\n",
      " [0 0 0 0 0 0 0 1 0 0]\n",
      " [0 0 0 0 0 0 0 0 0 0]\n",
      " [0 0 0 0 0 0 0 0 1 0]\n",
      " [0 0 0 0 0 0 0 0 0 1]]\n"
     ]
    }
   ],
   "source": [
    "yy=rrefgf2.rrefbinary(aa)\n",
    "\n",
    "print(yy)"
   ]
  },
  {
   "cell_type": "code",
   "execution_count": 14,
   "metadata": {},
   "outputs": [
    {
     "name": "stdout",
     "output_type": "stream",
     "text": [
      "0.008478641510009766\n",
      "1.1084003448486328\n",
      "727.805995464325\n"
     ]
    }
   ],
   "source": [
    "aa1=np.random.choice([0,1],size=(100,100),p=[0.3,0.7])\n",
    "aa2=np.random.choice([0,1],size=(1000,1000),p=[0.3,0.7])\n",
    "aa3=np.random.choice([0,1],size=(10000,10000),p=[0.3,0.7])\n",
    "\n",
    "import time\n",
    "\n",
    "st=time.time()\n",
    "yy1=rrefgf2.rrefbinary(aa1)\n",
    "st1=time.time()\n",
    "\n",
    "print(st1-st)\n",
    "\n",
    "st=time.time()\n",
    "yy1=rrefgf2.rrefbinary(aa2)\n",
    "st1=time.time()\n",
    "\n",
    "print(st1-st)\n",
    "\n",
    "st=time.time()\n",
    "yy1=rrefgf2.rrefbinary(aa3)\n",
    "st1=time.time()\n",
    "\n",
    "print(st1-st)\n"
   ]
  },
  {
   "cell_type": "code",
   "execution_count": 35,
   "metadata": {},
   "outputs": [
    {
     "name": "stdout",
     "output_type": "stream",
     "text": [
      "107.34846091270447\n"
     ]
    }
   ],
   "source": [
    "aa4=np.random.choice([0,1],size=(5000,5000),p=[0.3,0.7])\n",
    "st=time.time()\n",
    "yy1=rrefgf2.rrefbinary(aa4)\n",
    "st1=time.time()\n",
    "print(st1-st)\n"
   ]
  },
  {
   "cell_type": "code",
   "execution_count": 37,
   "metadata": {},
   "outputs": [
    {
     "name": "stdout",
     "output_type": "stream",
     "text": [
      "(array([0.68872922]), array([[0.00089275]]))\n"
     ]
    },
    {
     "data": {
      "image/png": "[encoded data removed]",
      "text/plain": [
       "<Figure size 640x480 with 1 Axes>"
      ]
     },
     "metadata": {},
     "output_type": "display_data"
    }
   ],
   "source": [
    "seconds=[0.008478641510009766\n",
    ",1.1084003448486328,107.34846091270447\n",
    ",727.805995464325]\n",
    "\n",
    "x=[100,1000,5000,10000]\n",
    "\n",
    "print(scipy.optimize.curve_fit(lambda t,b: t**b,  x,seconds))\n",
    "plt.scatter(x,seconds)\n",
    "plt.xlabel(\"Number of rows n\")\n",
    "plt.ylabel(\"Seconds to execute RREF\")\n",
    "plt.show()"
   ]
  },
  {
   "cell_type": "code",
   "execution_count": null,
   "metadata": {},
   "outputs": [],
   "source": []
  }
 ],
 "metadata": {
  "kernelspec": {
   "display_name": ".venvtensors",
   "language": "python",
   "name": "python3"
  },
  "language_info": {
   "codemirror_mode": {
    "name": "ipython",
    "version": 3
   },
   "file_extension": ".py",
   "mimetype": "text/x-python",
   "name": "python",
   "nbconvert_exporter": "python",
   "pygments_lexer": "ipython3",
   "version": "3.11.5"
  }
 },
 "nbformat": 4,
 "nbformat_minor": 2
}
